{
 "cells": [
  {
   "cell_type": "code",
   "execution_count": 19,
   "metadata": {},
   "outputs": [],
   "source": [
    "def mortgage_calc(interest_rate,term_of_loan_years,home_price,down_payment):\n",
    "    P=home_price-down_payment #Principal loan amount\n",
    "    R=interest_rate/100/12 #Monthly interest rate\n",
    "    T=term_of_loan_years*12 #Term of loan in months\n",
    "    \n",
    "    #Numerator of monthly repayment formula\n",
    "    M_n=R*P*((1+R)**T)\n",
    "    \n",
    "    #Denominator of monthly repayment formula\n",
    "    M_d=(1+R)**T-1\n",
    "    \n",
    "    M=M_n/M_d #Monthly repayments\n",
    "    \n",
    "    TI=M*T-P\n",
    "    \n",
    "    #Yearly total interest paid\n",
    "    #Yearly principal paid\n",
    "    \n",
    "    return M, TI "
   ]
  },
  {
   "cell_type": "code",
   "execution_count": 31,
   "metadata": {},
   "outputs": [
    {
     "data": {
      "text/plain": [
       "(1392.038532207353, 191133.87159464706)"
      ]
     },
     "execution_count": 31,
     "metadata": {},
     "output_type": "execute_result"
    }
   ],
   "source": [
    "mortgage_calc(3.5,30,350000,40000)"
   ]
  },
  {
   "cell_type": "code",
   "execution_count": null,
   "metadata": {},
   "outputs": [],
   "source": []
  }
 ],
 "metadata": {
  "kernelspec": {
   "display_name": "Python 3",
   "language": "python",
   "name": "python3"
  },
  "language_info": {
   "codemirror_mode": {
    "name": "ipython",
    "version": 3
   },
   "file_extension": ".py",
   "mimetype": "text/x-python",
   "name": "python",
   "nbconvert_exporter": "python",
   "pygments_lexer": "ipython3",
   "version": "3.7.4"
  }
 },
 "nbformat": 4,
 "nbformat_minor": 2
}
